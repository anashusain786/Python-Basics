{
  "nbformat": 4,
  "nbformat_minor": 0,
  "metadata": {
    "colab": {
      "provenance": []
    },
    "kernelspec": {
      "name": "python3",
      "display_name": "Python 3"
    },
    "language_info": {
      "name": "python"
    }
  },
  "cells": [
    {
      "cell_type": "markdown",
      "source": [
        "### Theoretical Questions\n"
      ],
      "metadata": {
        "id": "xqHgXIiq168P"
      }
    },
    {
      "cell_type": "markdown",
      "source": [
        "1.  What is Python, and why is it popular ?\n",
        "    - Python is a versatile, high-level programming language known for its clear syntax and readability, making it easy to learn and use. It supports multiple paradigms like object-oriented and functional programming, with a vast standard library for tasks from web development to data analysis. Its popularity stems from its simplicity, extensive community support, and powerful frameworks like Django and TensorFlow, which drive its use in web development, AI, and data science. The languages flexibility and active ecosystem make it a top choice for beginners and experts.\n",
        "\n",
        "2.  What is an interpreter in Python ?\n",
        "    - An interpreter in Python is a program that executes Python code directly, line by line, without needing to compile it into machine code first. It reads the code, translates it into instructions the computer understands, and runs it immediately. This makes development faster but execution slower compared to compiled languages.\n",
        "\n",
        "3.  What are pre-defined keywords in Python ?\n",
        "    - In Python, pre-defined keywords, also called reserved words, are terms with specific meanings that cannot be used as variable names or identifiers. Examples include if, else, for, while, def, class, import, and return. These keywords are integral to Python's syntax, controlling program flow, defining functions, or handling exceptions. There are 35 keywords in Python 3.11, like True, False, None, and try.\n",
        "\n",
        "4.  Can keywords be used as variable names ?\n",
        "    - In Python, keywords like if, for, while, etc. cannot be used as variable names because they are reserved for specific syntax and functionality. Using them will cause a syntax error. Always choose non-keyword names for variables to avoid issues.\n",
        "\n",
        "5.  What is mutability in Python ?\n",
        "    - Mutability refers to whether an object's state (its data or content) can be changed after creation. Mutable objects, like lists or dictionaries, can be modified in place (e.g., appending to a list). Immutable objects, like strings or tuples, cannot be altered once created; any change creates a new object.\n",
        "\n",
        "6.  Why are lists mutable, but tuples are immutable ?\n",
        "    - Lists in Python are mutable because they're designed for flexibility, allowing elements to be changed, added, or removed after creation. Tuples, however, are immutable to ensure data integrity and optimize performance, as their fixed structure prevents modifications and enables efficient memory use. This distinction supports different use cases: lists for dynamic data, tuples for constant, unchanging data.\n",
        "\n",
        "7.  What is the difference between \"==\" and \"is\" operators in Python ?\n",
        "    - In Python, the '==' operator checks if two objects have the same value, comparing their contents. The 'is' operator checks if two objects are the same instance, comparing their memory addresses. For example, 'a == b' tests value equality, while 'a is b' tests identity. This distinction matters for mutable objects like lists, where '==' can be true but 'is' false if they're different objects with the same contents.\n",
        "\n",
        "8.  What are logical operators in Python ?\n",
        "    - Logical operators in Python are used to combine conditional statements. The main ones are 'and' (returns True if both operands are True), 'or' (returns True if at least one operand is True), and 'not' (returns the opposite of the operand's truth value). They're handy for evaluating complex conditions in control structures like if-statements or loops. For example, 'x > 0 and y < 10' checks if both conditions are met.\n",
        "\n",
        "9.  What is type casting in Python ?\n",
        "    - Type casting is the process of converting one data type to another, like turning an integer into a string or a float into an integer. It's done using built-in functions like int(), str(), float(), or bool(). For example, str(42) converts the integer 42 to the string \"42\". It's useful when you need to manipulate data in a specific format, but you must ensure the conversion is valid to avoid errors.\n",
        "\n",
        "10. What is the difference between implicit and explicit type casting ?\n",
        "    - Implicit type casting happens automatically when the compiler converts one data type to another, like assigning an int to a float (e.g., float f = 5;). Explicit type casting requires manual intervention using a cast operator, like (int) to convert a float to an int (e.g., int i = (int)5.7;). Implicit casting is safer but less precise, while explicit casting gives control but risks data loss.\n",
        "\n",
        "11. What is the purpose of conditional statements in Python ?\n",
        "    - Conditional statements in Python, like if, elif, and else, control the flow of a program by executing specific code blocks based on whether certain conditions are true or false. They allow programs to make decisions, enabling dynamic responses to different inputs or states. For example, you can use them to check user input, handle errors, or direct program logic.\n",
        "\n",
        "12. How does the elif statement work ?\n",
        "    - An elif statement in Python is used in conditional structures to check additional conditions after an if statement. It stands for \"else if\" and is evaluated only if the preceding if or elif conditions are false. You can have multiple elif clauses between an if and an optional else block. The syntax is: elif condition: code. If the condition is true, its code runs, and the rest of the elif/else clauses are skipped.\n",
        "\n",
        "13. What is the difference between for and while loops ?\n",
        "    - A for loop iterates over a fixed sequence (like a list or range) with a known number of iterations, ideal for tasks like processing arrays. A while loop runs as long as a condition is true, better for scenarios where the iteration count isn't predetermined, like waiting for user input. For loops are more structured, while loops offer flexibility but risk infinite loops if the condition isn't managed.\n",
        "\n",
        "14. Describe a scenario where a while loop is more suitable than a for loop ?\n",
        "    - A while loop is more suitable than a for loop when the number of iterations is unknown and depends on a condition that changes during execution. For example, in a program that repeatedly prompts a user for input until they enter a valid number, a while loop is ideal because it continues until the condition (e.g., input is valid) is met, unlike a for loop, which requires a predefined range."
      ],
      "metadata": {
        "id": "mmvc8Gdu2FcJ"
      }
    },
    {
      "cell_type": "markdown",
      "source": [
        "### Practical Questions"
      ],
      "metadata": {
        "id": "poJhKKHx-ATA"
      }
    },
    {
      "cell_type": "code",
      "source": [
        "# Write a Python program to print \"Hello, World!\n",
        "\n",
        "print(\"Hello, World!\")"
      ],
      "metadata": {
        "colab": {
          "base_uri": "https://localhost:8080/"
        },
        "id": "YK9U-G2L-EC9",
        "outputId": "a29a1394-37cb-492e-8be3-62c3fd142bc5"
      },
      "execution_count": null,
      "outputs": [
        {
          "output_type": "stream",
          "name": "stdout",
          "text": [
            "Hello, World!\n"
          ]
        }
      ]
    },
    {
      "cell_type": "code",
      "source": [
        "# Write a Python program that displays your name and age.\n",
        "\n",
        "name = input(\"Enter your name: \")\n",
        "age = int(input(\"Enter your age: \"))\n",
        "print(f\"My name is {name} and I am {age} year old. \")"
      ],
      "metadata": {
        "colab": {
          "base_uri": "https://localhost:8080/"
        },
        "id": "kc74wqs_-oXP",
        "outputId": "3f2062b8-6a09-4f13-e894-dabcec989871"
      },
      "execution_count": null,
      "outputs": [
        {
          "output_type": "stream",
          "name": "stdout",
          "text": [
            "Enter your name: ANAS HUSAIN\n",
            "Enter your age: 21\n",
            "My name is ANAS HUSAIN and I am 21 year old. \n"
          ]
        }
      ]
    },
    {
      "cell_type": "code",
      "source": [
        "# Write code to print all the pre-defined keywords in Python using the keyword library.\n",
        "\n",
        "import keyword\n",
        "print(keyword.kwlist)"
      ],
      "metadata": {
        "colab": {
          "base_uri": "https://localhost:8080/"
        },
        "id": "DHaIlWJH_z4j",
        "outputId": "e8db715b-b97e-4edb-9a1b-96a546e333be"
      },
      "execution_count": null,
      "outputs": [
        {
          "output_type": "stream",
          "name": "stdout",
          "text": [
            "['False', 'None', 'True', 'and', 'as', 'assert', 'async', 'await', 'break', 'class', 'continue', 'def', 'del', 'elif', 'else', 'except', 'finally', 'for', 'from', 'global', 'if', 'import', 'in', 'is', 'lambda', 'nonlocal', 'not', 'or', 'pass', 'raise', 'return', 'try', 'while', 'with', 'yield']\n"
          ]
        }
      ]
    },
    {
      "cell_type": "code",
      "source": [
        "# Write a program that checks if a given word is a Python keyword.\n",
        "\n",
        "import keyword\n",
        "word = input(\"Enter a word:\")\n",
        "if keyword.iskeyword(word):\n",
        "  print(f\"{word} is a python keyword\")\n",
        "else:\n",
        "  print(f\"{word} is not a python keyword\")"
      ],
      "metadata": {
        "colab": {
          "base_uri": "https://localhost:8080/"
        },
        "id": "7TReTb-pAGy2",
        "outputId": "57e34760-0f5d-445d-d0fb-584a0d3cd994"
      },
      "execution_count": null,
      "outputs": [
        {
          "output_type": "stream",
          "name": "stdout",
          "text": [
            "Enter a word:async\n",
            "async is a python keyword\n"
          ]
        }
      ]
    },
    {
      "cell_type": "code",
      "source": [
        "# Create a list and tuple in Python, and demonstrate how attempting to change an element works differently for each."
      ],
      "metadata": {
        "id": "PNWAxdi1A6Rd"
      },
      "execution_count": null,
      "outputs": []
    },
    {
      "cell_type": "code",
      "source": [
        "# Create a list\n",
        "my_list = [1, 2, 3, 4]\n",
        "print(\"Original list:\", my_list)\n",
        "\n",
        "# Change an element in the list\n",
        "my_list[1] = 20\n",
        "print(\"Modified list:\", my_list)"
      ],
      "metadata": {
        "colab": {
          "base_uri": "https://localhost:8080/"
        },
        "id": "Mi_JhNCaWb8t",
        "outputId": "6da855a5-b0a1-49a8-9a97-ec530892f48b"
      },
      "execution_count": null,
      "outputs": [
        {
          "output_type": "stream",
          "name": "stdout",
          "text": [
            "Original list: [1, 2, 3, 4]\n",
            "Modified list: [1, 20, 3, 4]\n"
          ]
        }
      ]
    },
    {
      "cell_type": "code",
      "source": [
        "# Create a tuple\n",
        "my_tuple = (1, 2, 3, 4)\n",
        "print(\"\\nOriginal tuple:\", my_tuple)\n",
        "\n",
        "# Attempt to change an element in the tuple\n",
        "try:\n",
        "    my_tuple[1] = 20\n",
        "except TypeError as e:\n",
        "    print(\"Error when trying to modify tuple:\", e)"
      ],
      "metadata": {
        "colab": {
          "base_uri": "https://localhost:8080/"
        },
        "id": "EsPe8GnQWjDk",
        "outputId": "3218b140-0682-4bb3-db84-f1aefdcadbbc"
      },
      "execution_count": null,
      "outputs": [
        {
          "output_type": "stream",
          "name": "stdout",
          "text": [
            "\n",
            "Original tuple: (1, 2, 3, 4)\n",
            "Error when trying to modify tuple: 'tuple' object does not support item assignment\n"
          ]
        }
      ]
    },
    {
      "cell_type": "code",
      "source": [
        "# Write a function to demonstrate the behavior of mutable and immutable arguments.\n",
        "\n"
      ],
      "metadata": {
        "id": "P5e8VrAAWlVk",
        "colab": {
          "base_uri": "https://localhost:8080/",
          "height": 106
        },
        "outputId": "f4a88ef5-967f-4601-9072-f3c29ec40104"
      },
      "execution_count": null,
      "outputs": [
        {
          "output_type": "error",
          "ename": "SyntaxError",
          "evalue": "expected '(' (<ipython-input-1-5e683bf6850f>, line 3)",
          "traceback": [
            "\u001b[0;36m  File \u001b[0;32m\"<ipython-input-1-5e683bf6850f>\"\u001b[0;36m, line \u001b[0;32m3\u001b[0m\n\u001b[0;31m    def modify_immutable\u001b[0m\n\u001b[0m                        ^\u001b[0m\n\u001b[0;31mSyntaxError\u001b[0m\u001b[0;31m:\u001b[0m expected '('\n"
          ]
        }
      ]
    },
    {
      "cell_type": "code",
      "source": [
        "# Write a basic program that performs basic arithmetic operations on two user-input numbers.\n",
        "\n",
        "# Taking input from the user\n",
        "num1 = float(input(\"Enter first number: \"))\n",
        "num2 = float(input(\"Enter second number: \"))\n",
        "\n",
        "# Performing basic arithmetic operations\n",
        "addition = num1 + num2\n",
        "subtraction = num1 - num2\n",
        "multiplication = num1 * num2\n",
        "\n",
        "# Check for division by zero\n",
        "if num2 != 0:\n",
        "    division = num1 / num2\n",
        "else:\n",
        "    division = \"Undefined (cannot divide by zero)\"\n",
        "\n",
        "# Displaying the results\n",
        "print(\"\\nResults:\")\n",
        "print(\"Addition:\", addition)\n",
        "print(\"Subtraction:\", subtraction)\n",
        "print(\"Multiplication:\", multiplication)\n",
        "print(\"Division:\", division)\n"
      ],
      "metadata": {
        "colab": {
          "base_uri": "https://localhost:8080/"
        },
        "id": "LTyHXRXuByXh",
        "outputId": "3c7cf981-c6a9-4d63-a294-9e660d993f13"
      },
      "execution_count": null,
      "outputs": [
        {
          "output_type": "stream",
          "name": "stdout",
          "text": [
            "Enter first number: 9\n",
            "Enter second number: 8\n",
            "\n",
            "Results:\n",
            "Addition: 17.0\n",
            "Subtraction: 1.0\n",
            "Multiplication: 72.0\n",
            "Division: 1.125\n"
          ]
        }
      ]
    },
    {
      "cell_type": "code",
      "source": [
        "# Write a program to demonstrate the use of logical operators.\n",
        "\n",
        "# Taking input from the user\n",
        "age = int(input(\"Enter your age: \"))\n",
        "has_id = input(\"Do you have a valid ID? (yes/no): \").lower()\n",
        "\n",
        "# 'and' operator: both conditions must be true\n",
        "if age >= 18 and has_id == 'yes':\n",
        "    print(\"You are eligible to enter.\")\n",
        "\n",
        "# 'or' operator: at least one condition must be true\n",
        "elif age >= 18 or has_id == 'yes':\n",
        "    print(\"You might be eligible, but further verification is needed.\")\n",
        "\n",
        "# 'not' operator: reverses the boolean value\n",
        "if not (age >= 18):\n",
        "    print(\"You are underage.\")\n"
      ],
      "metadata": {
        "colab": {
          "base_uri": "https://localhost:8080/"
        },
        "id": "c9RMoFY-B7Mw",
        "outputId": "fa817bd0-33d2-4d0a-a75d-71ab90dd609b"
      },
      "execution_count": null,
      "outputs": [
        {
          "output_type": "stream",
          "name": "stdout",
          "text": [
            "Enter your age: 21\n",
            "Do you have a valid ID? (yes/no): yes\n",
            "You are eligible to enter.\n"
          ]
        }
      ]
    },
    {
      "cell_type": "code",
      "source": [
        "# Write a Python program to convert user input from string to integer, float, and boolean types.\n",
        "\n",
        "# Taking input from the user (input is always a string)\n",
        "user_input = input(\"Enter any value: \")\n",
        "\n",
        "# Converting to integer\n",
        "try:\n",
        "    int_value = int(user_input)\n",
        "    print(\"Integer value:\", int_value)\n",
        "except ValueError:\n",
        "    print(\"Cannot convert to integer.\")\n",
        "\n",
        "# Converting to float\n",
        "try:\n",
        "    float_value = float(user_input)\n",
        "    print(\"Float value:\", float_value)\n",
        "except ValueError:\n",
        "    print(\"Cannot convert to float.\")\n",
        "\n",
        "# Converting to boolean\n",
        "bool_value = bool(user_input)\n",
        "print(\"Boolean value:\", bool_value)"
      ],
      "metadata": {
        "colab": {
          "base_uri": "https://localhost:8080/"
        },
        "id": "74PJ2kIvCrXm",
        "outputId": "77ba9d0b-c951-41ba-e8be-eb8f91e67523"
      },
      "execution_count": null,
      "outputs": [
        {
          "output_type": "stream",
          "name": "stdout",
          "text": [
            "Enter any value: 786\n",
            "Integer value: 786\n",
            "Float value: 786.0\n",
            "Boolean value: True\n"
          ]
        }
      ]
    },
    {
      "cell_type": "code",
      "source": [
        "#  Write code to demonstrate type casting with list elements.\n",
        "\n",
        "str_list = ['1', '2', '3', '4']\n",
        "int_list = [int(i) for i in str_list]\n",
        "float_list = [float(i) for i in str_list]\n",
        "print(\"Integer List:\", int_list)\n",
        "print(\"Float List:\", float_list)\n"
      ],
      "metadata": {
        "id": "DHr5VazyDbkP",
        "colab": {
          "base_uri": "https://localhost:8080/"
        },
        "outputId": "e3e9346b-3185-4892-944c-1e5fc639a656"
      },
      "execution_count": null,
      "outputs": [
        {
          "output_type": "stream",
          "name": "stdout",
          "text": [
            "Integer List: [1, 2, 3, 4]\n",
            "Float List: [1.0, 2.0, 3.0, 4.0]\n"
          ]
        }
      ]
    },
    {
      "cell_type": "code",
      "source": [
        "# Write a program that checks if a number is positive, negative, or zero.\n",
        "\n",
        "num = float(input(\"Enter a number: \"))\n",
        "if num > 0:\n",
        "    print(\"Positive number\")\n",
        "elif num < 0:\n",
        "    print(\"Negative number\")\n",
        "else:\n",
        "    print(\"Zero\")\n"
      ],
      "metadata": {
        "colab": {
          "base_uri": "https://localhost:8080/"
        },
        "id": "e9FNDiSamokL",
        "outputId": "ad307c26-39d5-43f0-b4af-95b59ce717c7"
      },
      "execution_count": null,
      "outputs": [
        {
          "output_type": "stream",
          "name": "stdout",
          "text": [
            "Enter a number: 9\n",
            "Positive number\n"
          ]
        }
      ]
    },
    {
      "cell_type": "code",
      "source": [
        "#  Write a for loop to print numbers from 1 to 10\n",
        "for i in range(1, 11):\n",
        "    print(i)"
      ],
      "metadata": {
        "colab": {
          "base_uri": "https://localhost:8080/"
        },
        "id": "tLlmwz2ym5so",
        "outputId": "e5998b31-9e5a-4590-d177-764a9b5b3ac8"
      },
      "execution_count": null,
      "outputs": [
        {
          "output_type": "stream",
          "name": "stdout",
          "text": [
            "1\n",
            "2\n",
            "3\n",
            "4\n",
            "5\n",
            "6\n",
            "7\n",
            "8\n",
            "9\n",
            "10\n"
          ]
        }
      ]
    },
    {
      "cell_type": "code",
      "source": [
        "# Write a Python program to find the sum of all even numbers between 1 and 50.\n",
        "\n",
        "total = 0\n",
        "for i in range(2, 51, 2):\n",
        "    total += i\n",
        "print(\"Sum of even numbers from 1 to 50 is:\", total)\n"
      ],
      "metadata": {
        "colab": {
          "base_uri": "https://localhost:8080/"
        },
        "id": "-QvpefVQnE-G",
        "outputId": "7d67c642-b039-49e4-dc9b-6eee0c9af308"
      },
      "execution_count": null,
      "outputs": [
        {
          "output_type": "stream",
          "name": "stdout",
          "text": [
            "Sum of even numbers from 1 to 50 is: 650\n"
          ]
        }
      ]
    },
    {
      "cell_type": "code",
      "source": [
        "# Write a program to reverse a string using a while loop\n",
        "\n",
        "text = input(\"Enter a string: \")\n",
        "reversed_text = \"\"\n",
        "i = len(text) - 1\n",
        "while i >= 0:\n",
        "    reversed_text += text[i]\n",
        "    i -= 1\n",
        "print(\"Reversed string:\", reversed_text)\n"
      ],
      "metadata": {
        "colab": {
          "base_uri": "https://localhost:8080/"
        },
        "id": "leuYevzOnaW_",
        "outputId": "91b89132-fd49-4d4c-a9fe-f92467eb2f45"
      },
      "execution_count": 7,
      "outputs": [
        {
          "output_type": "stream",
          "name": "stdout",
          "text": [
            "Enter a string: JAINEFER THOMAS\n",
            "Reversed string: SAMOHT REFENIAJ\n"
          ]
        }
      ]
    },
    {
      "cell_type": "code",
      "source": [
        "#  Write a Python program to calculate the factorial of a number provided by the user using a while loop.\n",
        "\n",
        "num = int(input(\"Enter a number: \"))\n",
        "factorial = 1\n",
        "i = 1\n",
        "while i <= num:\n",
        "    factorial *= i\n",
        "    i += 1\n",
        "print(\"Factorial of\", num, \"is\", factorial)\n"
      ],
      "metadata": {
        "id": "UNuGCKtPoftW",
        "colab": {
          "base_uri": "https://localhost:8080/"
        },
        "outputId": "e8456ea8-3f91-44d7-a8fa-10d146e1135b"
      },
      "execution_count": 6,
      "outputs": [
        {
          "output_type": "stream",
          "name": "stdout",
          "text": [
            "Enter a number: 5\n",
            "Factorial of 5 is 120\n"
          ]
        }
      ]
    },
    {
      "cell_type": "code",
      "source": [],
      "metadata": {
        "id": "u9YeN1vpuLVj"
      },
      "execution_count": 4,
      "outputs": []
    }
  ]
}